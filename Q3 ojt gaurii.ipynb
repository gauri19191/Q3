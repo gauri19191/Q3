{
 "cells": [
  {
   "cell_type": "code",
   "execution_count": 1,
   "id": "4a25a494",
   "metadata": {},
   "outputs": [],
   "source": [
    "import numpy as np\n",
    "import pandas as pd \n",
    "import matplotlib.pyplot as plt\n",
    "import seaborn as sns"
   ]
  },
  {
   "cell_type": "markdown",
   "id": "68b329bd",
   "metadata": {},
   "source": [
    "# Q3. Singular Value Decomposition (SVD):\n",
    "Perform Singular Value Decomposition on the matrix A obtained in Question 2. Separate and print matrices U, Σ, and 𝑉 ் . Verify that A equals the product of U, Σ, and 𝑉 ் . Additionally, find the rank 2 and rank 3 approximations of matrix A."
   ]
  },
  {
   "cell_type": "code",
   "execution_count": 3,
   "id": "309beed7",
   "metadata": {},
   "outputs": [
    {
     "name": "stdout",
     "output_type": "stream",
     "text": [
      "Original matrix A:\n",
      "[[4 4 0 3 2]\n",
      " [0 8 2 4 4]\n",
      " [4 2 4 3 6]\n",
      " [5 4 9 1 4]\n",
      " [9 8 3 3 9]]\n"
     ]
    }
   ],
   "source": [
    "A = np.random.randint(0, 10, size=(5, 5))\n",
    "print(\"Original matrix A:\")\n",
    "print(A)"
   ]
  },
  {
   "cell_type": "code",
   "execution_count": 4,
   "id": "7b85b404",
   "metadata": {},
   "outputs": [
    {
     "name": "stdout",
     "output_type": "stream",
     "text": [
      "Matrix U:\n",
      "[[-0.26053803 -0.31091481 -0.19370591  0.3830551  -0.80696885]\n",
      " [-0.35998578 -0.55188094  0.73541383 -0.12937844  0.09091412]\n",
      " [-0.37419323  0.21724117 -0.12585712 -0.83067771 -0.32698659]\n",
      " [-0.45354111  0.7183493   0.3862753   0.35509942 -0.05450259]\n",
      " [-0.67587725 -0.18852046 -0.50655295  0.14285991  0.48025528]]\n",
      "\n",
      "Matrix Sigma:\n",
      "[[22.57744637  0.          0.          0.          0.        ]\n",
      " [ 0.          7.40748373  0.          0.          0.        ]\n",
      " [ 0.          0.          5.61463422  0.          0.        ]\n",
      " [ 0.          0.          0.          2.97517161  0.        ]\n",
      " [ 0.          0.          0.          0.          2.00308183]]\n",
      "\n",
      "Matrix V:\n",
      "[[-0.48231876  0.20524754 -0.69565567  0.42711683 -0.24264472]\n",
      " [-0.52670294 -0.5209584   0.4184512   0.47026344  0.23438696]\n",
      " [-0.368786    0.76473811  0.52082076  0.01445524 -0.08780252]\n",
      " [-0.25801455 -0.31532391  0.15131577 -0.36189591 -0.8247025 ]\n",
      " [-0.53607649 -0.04714061 -0.21635862 -0.68208937  0.44535694]]\n"
     ]
    }
   ],
   "source": [
    "#Q 3\n",
    " # Perform Singular Value Decomposition (SVD)\n",
    "U, Sigma, V_transpose = np.linalg.svd(A)\n",
    "Sigma_mat = np.zeros_like(A, dtype=float)\n",
    "Sigma_mat[:min(A.shape[0], A.shape[1]), :min(A.shape[0], A.shape[1])] = np.diag(Sigma)\n",
    "print(\"Matrix U:\")\n",
    "print(U)\n",
    "print(\"\\nMatrix Sigma:\")\n",
    "print(Sigma_mat)\n",
    "print(\"\\nMatrix V:\")\n",
    "print(V_transpose.T)"
   ]
  },
  {
   "cell_type": "code",
   "execution_count": 5,
   "id": "d3e8b073",
   "metadata": {},
   "outputs": [
    {
     "name": "stdout",
     "output_type": "stream",
     "text": [
      "\n",
      "Verification that A equals the product of U, Sigma, and V:\n",
      "True\n"
     ]
    }
   ],
   "source": [
    "# Now we show that A equals the product of U, Sigma, and V\n",
    "A_reconstructed = np.dot(U, np.dot(Sigma_mat, V_transpose))\n",
    "print(\"\\nVerification that A equals the product of U, Sigma, and V:\")\n",
    "print(np.allclose(A, A_reconstructed))"
   ]
  },
  {
   "cell_type": "code",
   "execution_count": null,
   "id": "569094d0",
   "metadata": {},
   "outputs": [],
   "source": []
  }
 ],
 "metadata": {
  "kernelspec": {
   "display_name": "Python 3 (ipykernel)",
   "language": "python",
   "name": "python3"
  },
  "language_info": {
   "codemirror_mode": {
    "name": "ipython",
    "version": 3
   },
   "file_extension": ".py",
   "mimetype": "text/x-python",
   "name": "python",
   "nbconvert_exporter": "python",
   "pygments_lexer": "ipython3",
   "version": "3.11.5"
  }
 },
 "nbformat": 4,
 "nbformat_minor": 5
}
